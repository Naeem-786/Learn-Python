{
  "nbformat": 4,
  "nbformat_minor": 0,
  "metadata": {
    "colab": {
      "provenance": [],
      "authorship_tag": "ABX9TyNRp2UaMZq1cXmSfXThBpjA",
      "include_colab_link": true
    },
    "kernelspec": {
      "name": "python3",
      "display_name": "Python 3"
    },
    "language_info": {
      "name": "python"
    }
  },
  "cells": [
    {
      "cell_type": "markdown",
      "metadata": {
        "id": "view-in-github",
        "colab_type": "text"
      },
      "source": [
        "<a href=\"https://colab.research.google.com/github/Naeem-786/Learn-Python/blob/main/Lec_1.ipynb\" target=\"_parent\"><img src=\"https://colab.research.google.com/assets/colab-badge.svg\" alt=\"Open In Colab\"/></a>"
      ]
    },
    {
      "cell_type": "markdown",
      "source": [
        "if else statement"
      ],
      "metadata": {
        "id": "dTg8r7HB4c_u"
      }
    },
    {
      "cell_type": "code",
      "execution_count": null,
      "metadata": {
        "colab": {
          "base_uri": "https://localhost:8080/"
        },
        "id": "jODkqw6c25bn",
        "outputId": "c1c3a386-3e49-4cba-9058-f96d2581194d"
      },
      "outputs": [
        {
          "output_type": "stream",
          "name": "stdout",
          "text": [
            "20\n"
          ]
        }
      ],
      "source": [
        "x=10\n",
        "y=20\n",
        "if x==5 or y==20:\n",
        "  print(y)"
      ]
    },
    {
      "cell_type": "code",
      "source": [
        "x=10\n",
        "y=20\n",
        "if x<=20 and y>=20:\n",
        "  print(x)"
      ],
      "metadata": {
        "colab": {
          "base_uri": "https://localhost:8080/"
        },
        "id": "Nr16uwrJ4_R0",
        "outputId": "7f422b7d-2369-4584-d5ad-a4c27be060cc"
      },
      "execution_count": null,
      "outputs": [
        {
          "output_type": "stream",
          "name": "stdout",
          "text": [
            "10\n"
          ]
        }
      ]
    },
    {
      "cell_type": "code",
      "source": [
        "if x>=5 or y<=15:\n",
        "  print(x)\n",
        "else:\n",
        "  print(y)"
      ],
      "metadata": {
        "colab": {
          "base_uri": "https://localhost:8080/"
        },
        "id": "iCgdsH-F5dU5",
        "outputId": "d715972d-4ea7-41d3-a301-747c7e2e8fd2"
      },
      "execution_count": null,
      "outputs": [
        {
          "output_type": "stream",
          "name": "stdout",
          "text": [
            "10\n"
          ]
        }
      ]
    },
    {
      "cell_type": "markdown",
      "source": [
        "**Function**\n",
        "functin is defined with keyword \"def\""
      ],
      "metadata": {
        "id": "xIHPsZyI8mEM"
      }
    },
    {
      "cell_type": "code",
      "source": [
        "def func():\n",
        "  print(\"this is my first functin\")\n",
        "func()  #retun a function without indentation"
      ],
      "metadata": {
        "colab": {
          "base_uri": "https://localhost:8080/"
        },
        "id": "2Wcj7fgj8pfx",
        "outputId": "15659bc6-9c82-45bb-8040-9accd01f846f"
      },
      "execution_count": null,
      "outputs": [
        {
          "output_type": "stream",
          "name": "stdout",
          "text": [
            "this is my first functin\n"
          ]
        }
      ]
    },
    {
      "cell_type": "code",
      "source": [
        "def multiply(y):\n",
        "  x = y * 10\n",
        "  return x\n",
        "multiply(2)"
      ],
      "metadata": {
        "colab": {
          "base_uri": "https://localhost:8080/"
        },
        "id": "CSqE0g5l9Yi1",
        "outputId": "e459d27b-8b19-4968-dea1-29911e8c8b09"
      },
      "execution_count": null,
      "outputs": [
        {
          "output_type": "execute_result",
          "data": {
            "text/plain": [
              "20"
            ]
          },
          "metadata": {},
          "execution_count": 22
        }
      ]
    },
    {
      "cell_type": "code",
      "source": [
        "def add(x):\n",
        "  adds = x + 2\n",
        "  return adds\n",
        "add(5)"
      ],
      "metadata": {
        "colab": {
          "base_uri": "https://localhost:8080/"
        },
        "id": "ALkc6_O8-rVJ",
        "outputId": "8487b0cd-f42d-4721-85fb-989c86ddfabc"
      },
      "execution_count": null,
      "outputs": [
        {
          "output_type": "execute_result",
          "data": {
            "text/plain": [
              "7"
            ]
          },
          "metadata": {},
          "execution_count": 29
        }
      ]
    },
    {
      "cell_type": "code",
      "source": [
        "def sum(a, b): # these are parameters which are assigned inside bracket\n",
        "  sumValue = a + b\n",
        "  return sumValue\n",
        "  '''return sumValue: This line is a return statement. When a function encounters a return statement, it immediately exits, sending the specified value back to the caller.\n",
        "Code after return: Any code placed after a return statement within a function will never be executed.'''\n",
        "''' to make this code functional, calls the function outside the return statement.'''\n",
        "result = sum(10, 20) # these two values inside brackets are arguments\n",
        "print(\"the sum of two numbers are\", result)"
      ],
      "metadata": {
        "colab": {
          "base_uri": "https://localhost:8080/"
        },
        "id": "odrljTD5gqAh",
        "outputId": "a041acfd-9bf1-409c-b0ae-cda3a8a853cc"
      },
      "execution_count": null,
      "outputs": [
        {
          "output_type": "stream",
          "name": "stdout",
          "text": [
            "the sum of two numbers are 30\n"
          ]
        }
      ]
    },
    {
      "cell_type": "markdown",
      "source": [
        "**Assigning a List to function using for loop**"
      ],
      "metadata": {
        "id": "7Zfu-delkZJq"
      }
    },
    {
      "cell_type": "code",
      "source": [
        "def fresFruit(fruits):\n",
        "  for x in fruits:\n",
        "    print(x)"
      ],
      "metadata": {
        "id": "UPdBVTJBkisF"
      },
      "execution_count": null,
      "outputs": []
    },
    {
      "cell_type": "code",
      "source": [
        "winterFuit = [\"apple\", \"orange\", \"gua\"] # declare a list\n",
        "fresFruit(winterFuit) #assigned list to already defined function which display all elements inside list using for loops"
      ],
      "metadata": {
        "colab": {
          "base_uri": "https://localhost:8080/"
        },
        "id": "-CqII9hBk3lY",
        "outputId": "27f48008-a345-49f8-bfa0-4c1943e2a702"
      },
      "execution_count": null,
      "outputs": [
        {
          "output_type": "stream",
          "name": "stdout",
          "text": [
            "apple\n",
            "orange\n",
            "gua\n"
          ]
        }
      ]
    },
    {
      "cell_type": "markdown",
      "source": [
        "Some python Buit in Functions"
      ],
      "metadata": {
        "id": "JDqh0siS_qVA"
      }
    },
    {
      "cell_type": "code",
      "source": [
        "max(2, 44, -1)"
      ],
      "metadata": {
        "colab": {
          "base_uri": "https://localhost:8080/"
        },
        "id": "W5RloMTx_vNS",
        "outputId": "b6fd7ef5-7005-4cc8-c508-6e44a93abd72"
      },
      "execution_count": null,
      "outputs": [
        {
          "output_type": "execute_result",
          "data": {
            "text/plain": [
              "44"
            ]
          },
          "metadata": {},
          "execution_count": 29
        }
      ]
    },
    {
      "cell_type": "code",
      "source": [
        "min(2, 44, -1)"
      ],
      "metadata": {
        "colab": {
          "base_uri": "https://localhost:8080/"
        },
        "id": "v8ETbqCh_04D",
        "outputId": "f02e7358-da02-4f2a-88fb-103fc1ca03ff"
      },
      "execution_count": null,
      "outputs": [
        {
          "output_type": "execute_result",
          "data": {
            "text/plain": [
              "-1"
            ]
          },
          "metadata": {},
          "execution_count": 33
        }
      ]
    },
    {
      "cell_type": "code",
      "source": [
        "abs(-2) #absolute function which return positive value"
      ],
      "metadata": {
        "colab": {
          "base_uri": "https://localhost:8080/"
        },
        "id": "FYKootPrAgrZ",
        "outputId": "eb7d7265-6ac6-4b01-bd49-29589f4971f9"
      },
      "execution_count": null,
      "outputs": [
        {
          "output_type": "execute_result",
          "data": {
            "text/plain": [
              "2"
            ]
          },
          "metadata": {},
          "execution_count": 35
        }
      ]
    },
    {
      "cell_type": "markdown",
      "source": [
        "**List** it is very famous and flexible feature in python, i can support every type of data in a single list. ** to declare it star with [] bracket , separated values"
      ],
      "metadata": {
        "id": "WwkCTG67BZao"
      }
    },
    {
      "cell_type": "code",
      "source": [
        "ls=[2, 5.4, 'Ali Moaaz']\n",
        "ls[0] # it'll show 1st index of list"
      ],
      "metadata": {
        "colab": {
          "base_uri": "https://localhost:8080/"
        },
        "id": "PNY2geEZBes7",
        "outputId": "31870ffd-1554-4ff8-cfe5-ac5bf01b467b"
      },
      "execution_count": null,
      "outputs": [
        {
          "output_type": "execute_result",
          "data": {
            "text/plain": [
              "2"
            ]
          },
          "metadata": {},
          "execution_count": 39
        }
      ]
    },
    {
      "cell_type": "code",
      "source": [
        "ls[0:1] #is tried here to acces a range of list elements, and last elements of range will be excluded, n-1 elements will be shown"
      ],
      "metadata": {
        "colab": {
          "base_uri": "https://localhost:8080/"
        },
        "id": "JX1ljX4nCL8i",
        "outputId": "a4abcd36-a661-4f4c-c0d6-e20d34448e41"
      },
      "execution_count": null,
      "outputs": [
        {
          "output_type": "execute_result",
          "data": {
            "text/plain": [
              "[2]"
            ]
          },
          "metadata": {},
          "execution_count": 40
        }
      ]
    },
    {
      "cell_type": "code",
      "source": [
        "ls=[2, 5.4, 'Ali Moaaz']\n",
        "ls[0:2] # it excluded last element"
      ],
      "metadata": {
        "colab": {
          "base_uri": "https://localhost:8080/"
        },
        "id": "C7c3ezSeCeSL",
        "outputId": "06370e2e-7e62-4792-f7a2-8cf26d46c50e"
      },
      "execution_count": null,
      "outputs": [
        {
          "output_type": "execute_result",
          "data": {
            "text/plain": [
              "[2, 5.4]"
            ]
          },
          "metadata": {},
          "execution_count": 48
        }
      ]
    },
    {
      "cell_type": "code",
      "source": [
        "ls.append('M.Shees') #to append any new element in the list at last\n",
        "len(ls) # it shows the total elements in list\n",
        "ls"
      ],
      "metadata": {
        "colab": {
          "base_uri": "https://localhost:8080/"
        },
        "id": "mS_JJ59dDTve",
        "outputId": "9d83713f-8fe1-4234-bdfe-0a727e2c0ab1"
      },
      "execution_count": null,
      "outputs": [
        {
          "output_type": "execute_result",
          "data": {
            "text/plain": [
              "[2, 5.4, 'Ali Moaaz', 'M.Shees', 'M.Shees', 'M.Shees']"
            ]
          },
          "metadata": {},
          "execution_count": 52
        }
      ]
    },
    {
      "cell_type": "code",
      "source": [
        "[2, 5.4, 'Ali Moaaz', 'M.Shees']"
      ],
      "metadata": {
        "colab": {
          "base_uri": "https://localhost:8080/"
        },
        "id": "yXNuMrKPEXgD",
        "outputId": "6bc2ca3d-6bf8-4e83-ca8b-fd098c3f7c8a"
      },
      "execution_count": null,
      "outputs": [
        {
          "output_type": "execute_result",
          "data": {
            "text/plain": [
              "[2, 5.4, 'Ali Moaaz', 'M.Shees']"
            ]
          },
          "metadata": {},
          "execution_count": 53
        }
      ]
    },
    {
      "cell_type": "code",
      "source": [
        "ls=[2, 5.4, 'Ali Moaaz', 'M.Shees']\n",
        "ls"
      ],
      "metadata": {
        "colab": {
          "base_uri": "https://localhost:8080/"
        },
        "id": "H0L-TgmKEdT_",
        "outputId": "05d66005-7443-4fc2-bd63-c852efa81144"
      },
      "execution_count": null,
      "outputs": [
        {
          "output_type": "execute_result",
          "data": {
            "text/plain": [
              "[2, 5.4, 'Ali Moaaz', 'M.Shees']"
            ]
          },
          "metadata": {},
          "execution_count": 5
        }
      ]
    },
    {
      "cell_type": "code",
      "source": [
        "ls[1]"
      ],
      "metadata": {
        "colab": {
          "base_uri": "https://localhost:8080/"
        },
        "id": "_geG-rkSIqpO",
        "outputId": "65d4c08e-1cdc-4729-e147-7d85d8075751"
      },
      "execution_count": null,
      "outputs": [
        {
          "output_type": "execute_result",
          "data": {
            "text/plain": [
              "5.4"
            ]
          },
          "metadata": {},
          "execution_count": 6
        }
      ]
    },
    {
      "cell_type": "code",
      "source": [
        "ls[3]"
      ],
      "metadata": {
        "colab": {
          "base_uri": "https://localhost:8080/",
          "height": 35
        },
        "id": "NSvKuuXfItPa",
        "outputId": "f0038854-a48d-42c9-9021-2482d4d0dc59"
      },
      "execution_count": null,
      "outputs": [
        {
          "output_type": "execute_result",
          "data": {
            "text/plain": [
              "'M.Shees'"
            ],
            "application/vnd.google.colaboratory.intrinsic+json": {
              "type": "string"
            }
          },
          "metadata": {},
          "execution_count": 7
        }
      ]
    },
    {
      "cell_type": "markdown",
      "source": [
        "**Split funtion**"
      ],
      "metadata": {
        "id": "Kp8kbgMYIx6X"
      }
    },
    {
      "cell_type": "code",
      "source": [
        "(\"'Naeem', 'Shees', 'Ali', 'Moaaz', '1'\".split())"
      ],
      "metadata": {
        "colab": {
          "base_uri": "https://localhost:8080/"
        },
        "id": "BkIg_ejWIxg9",
        "outputId": "328d33bd-0c94-454a-e937-4919b18e06e3"
      },
      "execution_count": null,
      "outputs": [
        {
          "output_type": "execute_result",
          "data": {
            "text/plain": [
              "[\"'Naeem',\", \"'Shees',\", \"'Ali',\", \"'Moaaz',\", \"'1'\"]"
            ]
          },
          "metadata": {},
          "execution_count": 8
        }
      ]
    },
    {
      "cell_type": "markdown",
      "source": [
        "**Addition**"
      ],
      "metadata": {
        "id": "2LJFJqeYJHjV"
      }
    },
    {
      "cell_type": "code",
      "source": [
        "add = (2,3,4,1,0,1.5)\n",
        "sum(add)"
      ],
      "metadata": {
        "colab": {
          "base_uri": "https://localhost:8080/"
        },
        "id": "ylxEiza2JGOK",
        "outputId": "1c03be7b-04fb-43c0-b294-cad12c5f33b3"
      },
      "execution_count": null,
      "outputs": [
        {
          "output_type": "execute_result",
          "data": {
            "text/plain": [
              "11.5"
            ]
          },
          "metadata": {},
          "execution_count": 12
        }
      ]
    },
    {
      "cell_type": "code",
      "source": [
        "add = (2,3,4,1,0,1.5) #this is tuple\n",
        "add\n",
        "list =[3,2.5,6,1] # this list generated\n",
        "list.extend(add)\n",
        "add\n",
        "add[0]\n"
      ],
      "metadata": {
        "colab": {
          "base_uri": "https://localhost:8080/"
        },
        "id": "kPU8zNXPKSNw",
        "outputId": "0046700b-ab0d-46c2-9893-abaee7eb024b"
      },
      "execution_count": null,
      "outputs": [
        {
          "output_type": "execute_result",
          "data": {
            "text/plain": [
              "2"
            ]
          },
          "metadata": {},
          "execution_count": 31
        }
      ]
    },
    {
      "cell_type": "code",
      "source": [
        "tuples = (2,3,1,4)\n",
        "tuples"
      ],
      "metadata": {
        "colab": {
          "base_uri": "https://localhost:8080/"
        },
        "id": "xld91bkzMjG1",
        "outputId": "09afdb3c-6324-49f6-b118-1d4b0f7a1d6c"
      },
      "execution_count": null,
      "outputs": [
        {
          "output_type": "execute_result",
          "data": {
            "text/plain": [
              "(2, 3, 1, 4)"
            ]
          },
          "metadata": {},
          "execution_count": 36
        }
      ]
    },
    {
      "cell_type": "code",
      "source": [],
      "metadata": {
        "id": "66Q7vmYlNQyJ"
      },
      "execution_count": null,
      "outputs": []
    },
    {
      "cell_type": "markdown",
      "source": [
        "Range"
      ],
      "metadata": {
        "id": "Q7sItrhQNPfd"
      }
    },
    {
      "cell_type": "code",
      "source": [
        "range(3)\n"
      ],
      "metadata": {
        "colab": {
          "base_uri": "https://localhost:8080/"
        },
        "id": "bGkns8KRNR9i",
        "outputId": "b8ad838e-26d5-450a-b7b2-b483db3830e8"
      },
      "execution_count": null,
      "outputs": [
        {
          "output_type": "execute_result",
          "data": {
            "text/plain": [
              "range(0, 3)"
            ]
          },
          "metadata": {},
          "execution_count": 37
        }
      ]
    },
    {
      "cell_type": "code",
      "source": [
        "x=range(4)\n",
        "x"
      ],
      "metadata": {
        "colab": {
          "base_uri": "https://localhost:8080/"
        },
        "id": "ux6O01MCNWaX",
        "outputId": "6a7c7bd5-c607-4a90-aa26-d1a5f8db3873"
      },
      "execution_count": null,
      "outputs": [
        {
          "output_type": "execute_result",
          "data": {
            "text/plain": [
              "range(0, 4)"
            ]
          },
          "metadata": {},
          "execution_count": 40
        }
      ]
    },
    {
      "cell_type": "markdown",
      "source": [
        "**Tupels**"
      ],
      "metadata": {
        "id": "uoUAqwxfNqbW"
      }
    },
    {
      "cell_type": "code",
      "source": [
        "myTuple = (1,2,3,4) #tuples are mutable, if it is declared it can't be changed but list is immutable\n",
        "myTuple"
      ],
      "metadata": {
        "colab": {
          "base_uri": "https://localhost:8080/"
        },
        "id": "6dGkjCbaNuob",
        "outputId": "68c1ec3c-256b-4ffb-a5bd-5db3d4558c32"
      },
      "execution_count": null,
      "outputs": [
        {
          "output_type": "execute_result",
          "data": {
            "text/plain": [
              "(1, 2, 3, 4)"
            ]
          },
          "metadata": {},
          "execution_count": 42
        }
      ]
    },
    {
      "cell_type": "markdown",
      "source": [
        "Dictionary"
      ],
      "metadata": {
        "id": "zV_7qiVkPCsr"
      }
    },
    {
      "cell_type": "code",
      "source": [
        "myDict = {\"key1\":\"value1\", \"key2\":\"value2\"} # it is define as key with its value, its canbe changed or add\n",
        "myDict"
      ],
      "metadata": {
        "colab": {
          "base_uri": "https://localhost:8080/"
        },
        "id": "FNcpwgHZPFdA",
        "outputId": "c1e09ecc-9b53-4787-aea0-1a3f1db3ecce"
      },
      "execution_count": null,
      "outputs": [
        {
          "output_type": "execute_result",
          "data": {
            "text/plain": [
              "{'key1': 'value1', 'key2': 'value2'}"
            ]
          },
          "metadata": {},
          "execution_count": 43
        }
      ]
    },
    {
      "cell_type": "code",
      "source": [
        "myDict = {\"key1\":\"value1\", \"key2\":\"value2\"}\n",
        "myDict['key2'] # fetch value at key2\n"
      ],
      "metadata": {
        "colab": {
          "base_uri": "https://localhost:8080/",
          "height": 35
        },
        "id": "hS1a92R7PWsg",
        "outputId": "5b9def0d-b2ce-47fb-adc7-28d6af6873e4"
      },
      "execution_count": null,
      "outputs": [
        {
          "output_type": "execute_result",
          "data": {
            "text/plain": [
              "'value2'"
            ],
            "application/vnd.google.colaboratory.intrinsic+json": {
              "type": "string"
            }
          },
          "metadata": {},
          "execution_count": 51
        }
      ]
    },
    {
      "cell_type": "code",
      "source": [
        "myDict = {\"key1\":\"value1\", \"key2\":\"value2\"}\n",
        "myDict['key3'] = 'value3' # add new key with value\n",
        "myDict"
      ],
      "metadata": {
        "colab": {
          "base_uri": "https://localhost:8080/"
        },
        "id": "sfchkAV_QMc1",
        "outputId": "cb9f828b-2a08-4efd-c512-5405bc722e4f"
      },
      "execution_count": null,
      "outputs": [
        {
          "output_type": "execute_result",
          "data": {
            "text/plain": [
              "{'key1': 'value1', 'key2': 'value2', 'key3': 'value3'}"
            ]
          },
          "metadata": {},
          "execution_count": 53
        }
      ]
    },
    {
      "cell_type": "code",
      "source": [
        "myDict={'key1': 'value1', 'key2': 'value2', 'key3': 'value3'}\n",
        "myDict"
      ],
      "metadata": {
        "colab": {
          "base_uri": "https://localhost:8080/"
        },
        "id": "U6VXaWnDKJf5",
        "outputId": "658ad623-8cbb-42a0-df96-953d150ed64b"
      },
      "execution_count": null,
      "outputs": [
        {
          "output_type": "execute_result",
          "data": {
            "text/plain": [
              "{'key1': 'value1', 'key2': 'value2', 'key3': 'value3'}"
            ]
          },
          "metadata": {},
          "execution_count": 3
        }
      ]
    },
    {
      "cell_type": "code",
      "source": [
        "myDict={'key1': 'value1', 'key2': 'value2', 'key3': 'value3'}\n",
        "myDict[\"key1\"] #to fetch specific value"
      ],
      "metadata": {
        "colab": {
          "base_uri": "https://localhost:8080/",
          "height": 35
        },
        "id": "Gl_hlkmJKXlm",
        "outputId": "6b689a0c-2753-4130-c9d1-94d7d017a5e8"
      },
      "execution_count": null,
      "outputs": [
        {
          "output_type": "execute_result",
          "data": {
            "text/plain": [
              "'value1'"
            ],
            "application/vnd.google.colaboratory.intrinsic+json": {
              "type": "string"
            }
          },
          "metadata": {},
          "execution_count": 6
        }
      ]
    },
    {
      "cell_type": "markdown",
      "source": [
        "Loops"
      ],
      "metadata": {
        "id": "jmdvcpVOLG5t"
      }
    },
    {
      "cell_type": "code",
      "source": [
        "x=0\n",
        "while(x<10):\n",
        "  print(str(x) + ' Naeem') #first convert x into string using str() func\n",
        "  x+=1"
      ],
      "metadata": {
        "colab": {
          "base_uri": "https://localhost:8080/"
        },
        "id": "aJ1iOEcVLIsy",
        "outputId": "1a2b9339-e0de-4342-c1a6-801abb13aa53"
      },
      "execution_count": null,
      "outputs": [
        {
          "output_type": "stream",
          "name": "stdout",
          "text": [
            "0 Naeem\n",
            "1 Naeem\n",
            "2 Naeem\n",
            "3 Naeem\n",
            "4 Naeem\n",
            "5 Naeem\n",
            "6 Naeem\n",
            "7 Naeem\n",
            "8 Naeem\n",
            "9 Naeem\n"
          ]
        }
      ]
    },
    {
      "cell_type": "markdown",
      "source": [
        "Importing Libraries\n",
        "`Importing math libraries with different ways and their difference`"
      ],
      "metadata": {
        "id": "dOqOxzSnPV21"
      }
    },
    {
      "cell_type": "code",
      "source": [
        "''' Importing math libraries with different ways and their difference '''\n",
        "import math\n",
        "math.sqrt(16)\n"
      ],
      "metadata": {
        "colab": {
          "base_uri": "https://localhost:8080/"
        },
        "id": "xZoxzUXnPwhR",
        "outputId": "38a6cfb2-78d4-4020-db8a-4be71ab74fcd"
      },
      "execution_count": null,
      "outputs": [
        {
          "output_type": "execute_result",
          "data": {
            "text/plain": [
              "4.0"
            ]
          },
          "metadata": {},
          "execution_count": 19
        }
      ]
    },
    {
      "cell_type": "code",
      "source": [
        "# second way to import library which is standard and practical\n",
        "import math as m\n",
        "m. sqrt(25)"
      ],
      "metadata": {
        "colab": {
          "base_uri": "https://localhost:8080/"
        },
        "id": "YhvUAFZQQKaN",
        "outputId": "8322eaa0-21f3-4c10-bdd0-d464e0e1a3b7"
      },
      "execution_count": null,
      "outputs": [
        {
          "output_type": "execute_result",
          "data": {
            "text/plain": [
              "5.0"
            ]
          },
          "metadata": {},
          "execution_count": 21
        }
      ]
    },
    {
      "cell_type": "code",
      "source": [
        "import math #math library is not properly imported and showing error\n",
        "sqrt(25)"
      ],
      "metadata": {
        "colab": {
          "base_uri": "https://localhost:8080/",
          "height": 159
        },
        "id": "xOMwxQxvQYU3",
        "outputId": "dce855f2-0c2a-475d-dca5-5b02e8cbdad4"
      },
      "execution_count": null,
      "outputs": [
        {
          "output_type": "error",
          "ename": "NameError",
          "evalue": "name 'sqrt' is not defined",
          "traceback": [
            "\u001b[0;31m---------------------------------------------------------------------------\u001b[0m",
            "\u001b[0;31mNameError\u001b[0m                                 Traceback (most recent call last)",
            "\u001b[0;32m<ipython-input-22-6882ef685828>\u001b[0m in \u001b[0;36m<cell line: 0>\u001b[0;34m()\u001b[0m\n\u001b[1;32m      1\u001b[0m \u001b[0;32mimport\u001b[0m \u001b[0mmath\u001b[0m\u001b[0;34m\u001b[0m\u001b[0;34m\u001b[0m\u001b[0m\n\u001b[0;32m----> 2\u001b[0;31m \u001b[0msqrt\u001b[0m\u001b[0;34m(\u001b[0m\u001b[0;36m25\u001b[0m\u001b[0;34m)\u001b[0m\u001b[0;34m\u001b[0m\u001b[0;34m\u001b[0m\u001b[0m\n\u001b[0m",
            "\u001b[0;31mNameError\u001b[0m: name 'sqrt' is not defined"
          ]
        }
      ]
    },
    {
      "cell_type": "code",
      "source": [
        "from math import* # import* keyword import every func of math\n",
        "sqrt(25)"
      ],
      "metadata": {
        "colab": {
          "base_uri": "https://localhost:8080/"
        },
        "id": "SIix3UmNQyta",
        "outputId": "641919f5-ff6d-469f-ba78-0210cce64b01"
      },
      "execution_count": null,
      "outputs": [
        {
          "output_type": "execute_result",
          "data": {
            "text/plain": [
              "5.0"
            ]
          },
          "metadata": {},
          "execution_count": 23
        }
      ]
    },
    {
      "cell_type": "code",
      "source": [
        "from math import*\n",
        "floor(5.1) #floor round off the value"
      ],
      "metadata": {
        "colab": {
          "base_uri": "https://localhost:8080/"
        },
        "id": "lpWGlFyPRBgZ",
        "outputId": "35c66f95-b23b-40b6-df06-0807609b5a89"
      },
      "execution_count": null,
      "outputs": [
        {
          "output_type": "execute_result",
          "data": {
            "text/plain": [
              "5"
            ]
          },
          "metadata": {},
          "execution_count": 24
        }
      ]
    },
    {
      "cell_type": "markdown",
      "source": [
        "Classes"
      ],
      "metadata": {
        "id": "GUrhnv0wTrw4"
      }
    },
    {
      "cell_type": "code",
      "source": [
        "class car():\n",
        "  def __init__(self, make, model):\n",
        "    self.make = make,\n",
        "    self.model = model,\n",
        "  def carname(self):\n",
        "    print(f\"the car name {self.make}\")\n",
        "\n",
        "carMode = car('Honda', 'city')\n",
        "carMode.carname()\n"
      ],
      "metadata": {
        "colab": {
          "base_uri": "https://localhost:8080/"
        },
        "id": "5CdUJyCTTuB6",
        "outputId": "42d82a37-f3cc-4c71-845b-48807138e040"
      },
      "execution_count": null,
      "outputs": [
        {
          "output_type": "stream",
          "name": "stdout",
          "text": [
            "the car name ('Honda',)\n"
          ]
        }
      ]
    },
    {
      "cell_type": "code",
      "source": [
        "class animal():\n",
        "  def __init__(self, carnivorus, omnivorus): #pass the variales to class initialization\n",
        "    self.carnivorus = carnivorus,\n",
        "    self.omnivorus = omnivorus, #variables initialized with self keyword\n",
        "  def newAnimal(self):\n",
        "    print(f\"The animal is belong to {self.carnivorus}\")\n",
        "\n",
        "animalClass = animal('vegetable like', 'mix food') #create a variable to assign class and its parameters\n",
        "animalClass.newAnimal() #call the class\n"
      ],
      "metadata": {
        "colab": {
          "base_uri": "https://localhost:8080/"
        },
        "id": "fALZ8rVvYZ-Z",
        "outputId": "464b6d90-d6e3-43d8-c9d2-1022c275896f"
      },
      "execution_count": null,
      "outputs": [
        {
          "output_type": "stream",
          "name": "stdout",
          "text": [
            "The animal is belong to ('vegetable like',)\n"
          ]
        }
      ]
    },
    {
      "cell_type": "code",
      "source": [
        "## Numpy"
      ],
      "metadata": {
        "id": "Bm2cpbsih7aw"
      },
      "execution_count": 1,
      "outputs": []
    },
    {
      "cell_type": "markdown",
      "source": [],
      "metadata": {
        "id": "g3eL01Whgf7z"
      }
    },
    {
      "cell_type": "markdown",
      "source": [],
      "metadata": {
        "id": "ai1EbV4lbaPi"
      }
    }
  ]
}